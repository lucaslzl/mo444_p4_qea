{
 "cells": [
  {
   "cell_type": "markdown",
   "metadata": {},
   "source": [
    "<img src=\"imgs/unicamp.png\" width=\"150\" height=\"150\">"
   ]
  },
  {
   "cell_type": "markdown",
   "metadata": {},
   "source": [
    "# Augment"
   ]
  },
  {
   "cell_type": "code",
   "execution_count": null,
   "metadata": {},
   "outputs": [],
   "source": [
    "# Default\n",
    "import os\n",
    "\n",
    "# Numerical and IO\n",
    "import numpy as np\n",
    "import pandas as pd\n",
    "\n",
    "# Augmentation\n",
    "import nltk\n",
    "import nlpaug.augmenter.char as nac\n",
    "import nlpaug.augmenter.word as naw\n",
    "import nlpaug.augmenter.sentence as nas\n",
    "import nlpaug.flow as nafc\n",
    "\n",
    "from nlpaug.util import Action"
   ]
  },
  {
   "cell_type": "code",
   "execution_count": null,
   "metadata": {},
   "outputs": [],
   "source": [
    "nltk.download('punkt')\n",
    "nltk.download('wordnet')\n",
    "nltk.download('averaged_perceptron_tagger')"
   ]
  },
  {
   "cell_type": "markdown",
   "metadata": {},
   "source": [
    "## Read Data"
   ]
  },
  {
   "cell_type": "code",
   "execution_count": null,
   "metadata": {},
   "outputs": [],
   "source": [
    "folder = 'data/'\n",
    "files_path = os.listdir(folder)\n",
    "files = {}\n",
    "\n",
    "# Get in order\n",
    "for i in range(1, len(files_path)+1):\n",
    "    \n",
    "    file = [f for f in files_path if f'{i}' == f.split('_')[0]][0]\n",
    "    files[file] = pd.read_excel(folder+file)\n",
    "    files[file].columns = ['question', 'answer']\n",
    "    files[file].dropna(inplace=True)"
   ]
  },
  {
   "cell_type": "markdown",
   "metadata": {},
   "source": [
    "## Augment"
   ]
  },
  {
   "cell_type": "code",
   "execution_count": null,
   "metadata": {},
   "outputs": [],
   "source": [
    "def augment(text, times=2):\n",
    "\n",
    "    augmented = []\n",
    "    \n",
    "    for i in range(times):\n",
    "        # Substitute with distilbert\n",
    "        aug = naw.ContextualWordEmbsAug(\n",
    "            model_path='distilbert-base-uncased', action=\"substitute\")\n",
    "        augmented.append(aug.augment(text))\n",
    "\n",
    "        # Substitute with wordnet\n",
    "        aug = naw.SynonymAug(aug_src='wordnet')\n",
    "        augmented.append(aug.augment(text))\n",
    "    \n",
    "    return augmented"
   ]
  },
  {
   "cell_type": "code",
   "execution_count": null,
   "metadata": {},
   "outputs": [],
   "source": [
    "folder = 'augmented/'\n",
    "\n",
    "# Go through files augmenting\n",
    "for f in files:\n",
    "    \n",
    "    data = files[f]\n",
    "    result = {'question': [], 'answer': []}\n",
    "    \n",
    "    for i, row in data.iterrows():\n",
    "        \n",
    "        que = row['question']\n",
    "        ans = row['answer']\n",
    "        \n",
    "        result['question'].append(que)\n",
    "        result['answer'].append(ans)\n",
    "        \n",
    "        augmented = augment(que)\n",
    "        result['question'].extend(augmented)\n",
    "        result['answer'].extend([ans]*len(augmented))\n",
    "        \n",
    "    pd.DataFrame.from_dict(result).to_csv(f'{folder}{f}', index=False)"
   ]
  }
 ],
 "metadata": {
  "kernelspec": {
   "display_name": "Python 3",
   "language": "python",
   "name": "python3"
  },
  "language_info": {
   "codemirror_mode": {
    "name": "ipython",
    "version": 3
   },
   "file_extension": ".py",
   "mimetype": "text/x-python",
   "name": "python",
   "nbconvert_exporter": "python",
   "pygments_lexer": "ipython3",
   "version": "3.8.7"
  }
 },
 "nbformat": 4,
 "nbformat_minor": 4
}
