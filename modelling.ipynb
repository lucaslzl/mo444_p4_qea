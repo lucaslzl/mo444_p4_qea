{
 "cells": [
  {
   "cell_type": "markdown",
   "metadata": {},
   "source": [
    "<img src=\"unicamp.png\" width=\"150\" height=\"150\">"
   ]
  },
  {
   "cell_type": "markdown",
   "metadata": {},
   "source": [
    "# Modelling"
   ]
  },
  {
   "cell_type": "code",
   "execution_count": 1,
   "metadata": {},
   "outputs": [],
   "source": [
    "# Default\n",
    "import os\n",
    "\n",
    "# Numerical and IO\n",
    "import numpy as np\n",
    "import pandas as pd\n",
    "\n",
    "# NLP and model\n",
    "import pickle\n",
    "import nltk\n",
    "from nltk.tokenize import word_tokenize\n",
    "from gensim.models.doc2vec import Doc2Vec, TaggedDocument\n",
    "from sklearn.model_selection import train_test_split"
   ]
  },
  {
   "cell_type": "markdown",
   "metadata": {},
   "source": [
    "## Read Data"
   ]
  },
  {
   "cell_type": "code",
   "execution_count": 2,
   "metadata": {},
   "outputs": [],
   "source": [
    "folder = 'augmented/'\n",
    "files_path = os.listdir(folder)\n",
    "files = {}\n",
    "\n",
    "# Get in order\n",
    "for i in range(1, len(files_path)+1):\n",
    "    \n",
    "    file = [f for f in files_path if f'{i}' == f.split('_')[0]][0]\n",
    "    files[file] = pd.read_csv(folder+file)\n",
    "    files[file].columns = ['question', 'answer']\n",
    "    files[file].dropna(inplace=True)"
   ]
  },
  {
   "cell_type": "markdown",
   "metadata": {},
   "source": [
    "### Create corpus"
   ]
  },
  {
   "cell_type": "code",
   "execution_count": null,
   "metadata": {},
   "outputs": [],
   "source": [
    "corpus = []\n",
    "\n",
    "for f in files:\n",
    "    \n",
    "    for indx, row in files[f].iterrows():\n",
    "        \n",
    "        corpus.append(row['question'])\n",
    "        corpus.append(row['answer'])"
   ]
  },
  {
   "cell_type": "markdown",
   "metadata": {},
   "source": [
    "### IO objects"
   ]
  },
  {
   "cell_type": "code",
   "execution_count": 3,
   "metadata": {},
   "outputs": [],
   "source": [
    "def save(file, data):\n",
    "    \n",
    "    folder = 'pickles/'\n",
    "    with open(f'{folder}{file}.pickle', 'wb') as handle:\n",
    "        pickle.dump(data, handle, protocol=pickle.HIGHEST_PROTOCOL)\n",
    "\n",
    "def load(file):\n",
    "\n",
    "    folder = 'pickles/'\n",
    "    with open(f'{folder}{file}.pickle', 'rb') as handle:\n",
    "        pick = pickle.load(handle)\n",
    "    \n",
    "    return pick"
   ]
  },
  {
   "cell_type": "markdown",
   "metadata": {},
   "source": [
    "## Train Sentence Embedding\n",
    "\n",
    "Source of sentence embedding Doc2Vec: https://www.analyticsvidhya.com/blog/2020/08/top-4-sentence-embedding-techniques-using-python/"
   ]
  },
  {
   "cell_type": "code",
   "execution_count": null,
   "metadata": {},
   "outputs": [],
   "source": [
    "# Tokenize\n",
    "tokenized = [word_tokenize(c.lower()) for c in corpus]\n",
    "\n",
    "# Tag\n",
    "tagged = [TaggedDocument(d, [i]) for i, d in enumerate(tokenized)]\n",
    "\n",
    "# Train model\n",
    "model = Doc2Vec(tagged, vector_size=50, window=2, min_count=1, epochs=100)"
   ]
  },
  {
   "cell_type": "code",
   "execution_count": null,
   "metadata": {},
   "outputs": [],
   "source": [
    "save('doc2vec', model)"
   ]
  },
  {
   "cell_type": "code",
   "execution_count": null,
   "metadata": {},
   "outputs": [],
   "source": [
    "# test_doc = word_tokenize(\"I had pizza and pasta\".lower())\n",
    "# test_doc_vector = model.infer_vector(test_doc)"
   ]
  },
  {
   "cell_type": "code",
   "execution_count": 4,
   "metadata": {},
   "outputs": [],
   "source": [
    "# If restarted notebook\n",
    "model = load('doc2vec')"
   ]
  },
  {
   "cell_type": "markdown",
   "metadata": {},
   "source": [
    "## Prepare Data\n",
    "\n",
    "Prepare data for hierarquical classifier.\n",
    "- Which subject?\n",
    "- Which question?"
   ]
  },
  {
   "cell_type": "code",
   "execution_count": 5,
   "metadata": {},
   "outputs": [],
   "source": [
    "# Which subject?\n",
    "class_sub = {}\n",
    "X_sub, y_sub = [], []\n",
    "\n",
    "for i, f in enumerate(files):\n",
    "\n",
    "    class_sub[str(i)] = f\n",
    "    X_sub.extend(files[f]['question'].values)\n",
    "    y_sub.extend([str(i)]*len(files[f]['question'].values))"
   ]
  },
  {
   "cell_type": "code",
   "execution_count": 6,
   "metadata": {},
   "outputs": [],
   "source": [
    "# Which question?\n",
    "class_que = {}\n",
    "X_que, y_que = [], []\n",
    "count = 0\n",
    "last = ''\n",
    "\n",
    "for i, f in enumerate(files):\n",
    "    \n",
    "    for j, row in files[f].iterrows():\n",
    "        \n",
    "        que = row['question']\n",
    "        ans = row['answer']\n",
    "        \n",
    "        if last != ans:\n",
    "            last = ans\n",
    "            count += 1\n",
    "        \n",
    "        class_que[str(count)] = ans\n",
    "        X_que.append(que)\n",
    "        y_que.append(str(count))"
   ]
  },
  {
   "cell_type": "markdown",
   "metadata": {},
   "source": [
    "### Clean data"
   ]
  },
  {
   "cell_type": "code",
   "execution_count": 7,
   "metadata": {},
   "outputs": [],
   "source": [
    "X_sub = [x.replace('\\n', '') for x in X_sub]\n",
    "X_que = [x.replace('\\n', '') for x in X_que]"
   ]
  },
  {
   "cell_type": "code",
   "execution_count": 8,
   "metadata": {},
   "outputs": [
    {
     "data": {
      "text/plain": [
       "(800, 800, 800, 800)"
      ]
     },
     "execution_count": 8,
     "metadata": {},
     "output_type": "execute_result"
    }
   ],
   "source": [
    "len(X_sub), len(y_sub), len(X_que), len(y_que)"
   ]
  },
  {
   "cell_type": "markdown",
   "metadata": {},
   "source": [
    "## Modelling"
   ]
  },
  {
   "cell_type": "markdown",
   "metadata": {},
   "source": [
    "### Subject"
   ]
  },
  {
   "cell_type": "code",
   "execution_count": 9,
   "metadata": {},
   "outputs": [],
   "source": [
    "def split_data(X, y):\n",
    "    \n",
    "    X_train, X_test, y_train, y_test = train_test_split(X, y, test_size=0.1, random_state=42)\n",
    "    \n",
    "    return X_train, X_test, y_train, y_test"
   ]
  },
  {
   "cell_type": "code",
   "execution_count": 12,
   "metadata": {},
   "outputs": [],
   "source": [
    "X_train, X_test, y_train, y_test = split_data(X_sub, y_sub)"
   ]
  },
  {
   "cell_type": "code",
   "execution_count": null,
   "metadata": {},
   "outputs": [],
   "source": []
  }
 ],
 "metadata": {
  "kernelspec": {
   "display_name": "Python 3",
   "language": "python",
   "name": "python3"
  },
  "language_info": {
   "codemirror_mode": {
    "name": "ipython",
    "version": 3
   },
   "file_extension": ".py",
   "mimetype": "text/x-python",
   "name": "python",
   "nbconvert_exporter": "python",
   "pygments_lexer": "ipython3",
   "version": "3.8.7"
  }
 },
 "nbformat": 4,
 "nbformat_minor": 4
}
