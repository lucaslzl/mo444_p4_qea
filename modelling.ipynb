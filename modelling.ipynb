{
 "cells": [
  {
   "cell_type": "markdown",
   "metadata": {},
   "source": [
    "<img src=\"unicamp.png\" width=\"150\" height=\"150\">"
   ]
  },
  {
   "cell_type": "markdown",
   "metadata": {},
   "source": [
    "# Modelling"
   ]
  },
  {
   "cell_type": "code",
   "execution_count": null,
   "metadata": {},
   "outputs": [],
   "source": [
    "# Default\n",
    "import os\n",
    "\n",
    "# Numerical and IO\n",
    "import numpy as np\n",
    "import pandas as pd\n",
    "\n",
    "# NLP\n",
    "import pickle\n",
    "import nltk\n",
    "from nltk.tokenize import word_tokenize\n",
    "from gensim.models.doc2vec import Doc2Vec, TaggedDocument\n",
    "\n",
    "# Models\n",
    "from sklearn.model_selection import train_test_split\n",
    "from sklearn.model_selection import StratifiedKFold\n",
    "from sklearn.model_selection import cross_val_score\n",
    "from sklearn.preprocessing import OneHotEncoder\n",
    "from sklearn.ensemble import RandomForestClassifier\n",
    "from sklearn.ensemble import GradientBoostingClassifier\n",
    "from sklearn.linear_model import LogisticRegression\n",
    "from sklearn.neural_network import MLPClassifier\n",
    "from sklearn.metrics import f1_score\n",
    "import tensorflow as tf\n",
    "from tensorflow import keras\n",
    "\n",
    "import warnings\n",
    "warnings.filterwarnings(\"ignore\")"
   ]
  },
  {
   "cell_type": "markdown",
   "metadata": {},
   "source": [
    "## Read Data"
   ]
  },
  {
   "cell_type": "code",
   "execution_count": null,
   "metadata": {},
   "outputs": [],
   "source": [
    "folder = 'augmented/'\n",
    "files_path = os.listdir(folder)\n",
    "files = {}\n",
    "\n",
    "# Get in order\n",
    "for i in range(1, len(files_path)+1):\n",
    "    \n",
    "    file = [f for f in files_path if f'{i}' == f.split('_')[0]][0]\n",
    "    files[file] = pd.read_csv(folder+file)\n",
    "    files[file].columns = ['question', 'answer']\n",
    "    files[file].dropna(inplace=True)"
   ]
  },
  {
   "cell_type": "markdown",
   "metadata": {},
   "source": [
    "### Create corpus"
   ]
  },
  {
   "cell_type": "code",
   "execution_count": null,
   "metadata": {},
   "outputs": [],
   "source": [
    "corpus = []\n",
    "\n",
    "for f in files:\n",
    "    \n",
    "    for indx, row in files[f].iterrows():\n",
    "        \n",
    "        corpus.append(row['question'])\n",
    "        corpus.append(row['answer'])"
   ]
  },
  {
   "cell_type": "markdown",
   "metadata": {},
   "source": [
    "### IO objects"
   ]
  },
  {
   "cell_type": "code",
   "execution_count": null,
   "metadata": {},
   "outputs": [],
   "source": [
    "def save(file: str, data):\n",
    "    \n",
    "    folder = 'pickles/'\n",
    "    with open(f'{folder}{file}.pickle', 'wb') as handle:\n",
    "        pickle.dump(data, handle, protocol=pickle.HIGHEST_PROTOCOL)\n",
    "\n",
    "def load(file: str):\n",
    "\n",
    "    folder = 'pickles/'\n",
    "    with open(f'{folder}{file}.pickle', 'rb') as handle:\n",
    "        pick = pickle.load(handle)\n",
    "    \n",
    "    return pick"
   ]
  },
  {
   "cell_type": "markdown",
   "metadata": {},
   "source": [
    "## Train Sentence Embedding\n",
    "\n",
    "Source of sentence embedding Doc2Vec: https://www.analyticsvidhya.com/blog/2020/08/top-4-sentence-embedding-techniques-using-python/"
   ]
  },
  {
   "cell_type": "code",
   "execution_count": null,
   "metadata": {},
   "outputs": [],
   "source": [
    "# Tokenize\n",
    "tokenized = [word_tokenize(c.lower()) for c in corpus]\n",
    "\n",
    "# Tag\n",
    "tagged = [TaggedDocument(d, [i]) for i, d in enumerate(tokenized)]\n",
    "\n",
    "# Train model\n",
    "model = Doc2Vec(tagged, vector_size=50, window=2, min_count=1, epochs=100)"
   ]
  },
  {
   "cell_type": "code",
   "execution_count": null,
   "metadata": {},
   "outputs": [],
   "source": [
    "save('doc2vec', model)"
   ]
  },
  {
   "cell_type": "code",
   "execution_count": null,
   "metadata": {},
   "outputs": [],
   "source": [
    "# If restarted notebook\n",
    "model = load('doc2vec')"
   ]
  },
  {
   "cell_type": "markdown",
   "metadata": {},
   "source": [
    "## Prepare Data\n",
    "\n",
    "Prepare data for hierarquical classifier.\n",
    "- Which subject?\n",
    "- Which question?"
   ]
  },
  {
   "cell_type": "code",
   "execution_count": null,
   "metadata": {},
   "outputs": [],
   "source": [
    "# Which subject?\n",
    "class_sub = {}\n",
    "X_sub, y_sub = [], []\n",
    "\n",
    "for i, f in enumerate(files):\n",
    "\n",
    "    class_sub[str(i+1)] = f\n",
    "    X_sub.extend(files[f]['question'].values)\n",
    "    y_sub.extend([str(i+1)]*len(files[f]['question'].values))\n",
    "\n",
    "save('class_sub', class_sub)"
   ]
  },
  {
   "cell_type": "code",
   "execution_count": null,
   "metadata": {},
   "outputs": [],
   "source": [
    "# Which question?\n",
    "class_que = {}\n",
    "X_que, y_que = [], []\n",
    "count = 0\n",
    "last = ''\n",
    "\n",
    "for i, f in enumerate(files):\n",
    "    \n",
    "    for j, row in files[f].iterrows():\n",
    "        \n",
    "        que = row['question']\n",
    "        ans = row['answer']\n",
    "        \n",
    "        if last != ans:\n",
    "            last = ans\n",
    "            count += 1\n",
    "        \n",
    "        class_que[str(count)] = ans\n",
    "        X_que.append(que)\n",
    "        y_que.append(str(count))\n",
    "\n",
    "save('class_que', class_que)"
   ]
  },
  {
   "cell_type": "markdown",
   "metadata": {},
   "source": [
    "### Clean data"
   ]
  },
  {
   "cell_type": "code",
   "execution_count": null,
   "metadata": {},
   "outputs": [],
   "source": [
    "X_sub = [x.replace('\\n', '') for x in X_sub]\n",
    "X_que = [x.replace('\\n', '') for x in X_que]"
   ]
  },
  {
   "cell_type": "code",
   "execution_count": null,
   "metadata": {},
   "outputs": [],
   "source": [
    "len(X_sub), len(y_sub), len(X_que), len(y_que)"
   ]
  },
  {
   "cell_type": "markdown",
   "metadata": {},
   "source": [
    "## Modelling"
   ]
  },
  {
   "cell_type": "code",
   "execution_count": null,
   "metadata": {},
   "outputs": [],
   "source": [
    "def split_data(X: list, y: list):\n",
    "    \n",
    "    X_train, X_test, y_train, y_test = train_test_split(X, y, test_size=0.1, random_state=42)\n",
    "    \n",
    "    return X_train, X_test, y_train, y_test"
   ]
  },
  {
   "cell_type": "code",
   "execution_count": null,
   "metadata": {},
   "outputs": [],
   "source": [
    "def get_embedding(text: str):\n",
    "    \n",
    "    tokenized = word_tokenize(text.lower())\n",
    "    return model.infer_vector(tokenized)"
   ]
  },
  {
   "cell_type": "code",
   "execution_count": null,
   "metadata": {},
   "outputs": [],
   "source": [
    "def make_it_vector(X: list):\n",
    "    \n",
    "    vectors = []\n",
    "    \n",
    "    for text in X:\n",
    "        vectors.append(get_embedding(text))\n",
    "        \n",
    "    return vectors"
   ]
  },
  {
   "cell_type": "code",
   "execution_count": null,
   "metadata": {},
   "outputs": [],
   "source": [
    "def evaluate(model, X, y):\n",
    "    \n",
    "    return cross_val_score(model, X, y, cv=5, scoring='f1_macro')"
   ]
  },
  {
   "cell_type": "code",
   "execution_count": null,
   "metadata": {},
   "outputs": [],
   "source": [
    "def get_network(classes_len):\n",
    "    \n",
    "    model = keras.Sequential([\n",
    "        keras.layers.Dense(256, activation='relu', input_dim=50),\n",
    "        keras.layers.Dense(256, activation='relu'),\n",
    "        keras.layers.Dense(256, activation='relu'),\n",
    "        keras.layers.Dense(256, activation='relu'),\n",
    "        keras.layers.Dense(classes_len, activation='softmax')\n",
    "    ])\n",
    "\n",
    "    model.compile(optimizer='adam',\n",
    "                  loss='categorical_crossentropy',\n",
    "                  metrics=['accuracy'])\n",
    "    \n",
    "    return model"
   ]
  },
  {
   "cell_type": "code",
   "execution_count": null,
   "metadata": {},
   "outputs": [],
   "source": [
    "def one_hot_label(ys):\n",
    "    \n",
    "    y_ohe = []\n",
    "    ys = list(map(int, ys))\n",
    "    maxi = np.amax(ys)\n",
    "    \n",
    "    for y in ys:\n",
    "        y_ohe.append([1 if i == y else 0 for i in range(maxi)])\n",
    "    \n",
    "    return np.array(y_ohe)"
   ]
  },
  {
   "cell_type": "markdown",
   "metadata": {},
   "source": [
    "### Subject"
   ]
  },
  {
   "cell_type": "code",
   "execution_count": null,
   "metadata": {},
   "outputs": [],
   "source": [
    "# Split data\n",
    "X_train, X_test, y_train, y_test = split_data(X_sub, y_sub)\n",
    "\n",
    "# Make X vector\n",
    "X_train_vec = make_it_vector(X_train)\n",
    "X_test_vec = make_it_vector(X_test)"
   ]
  },
  {
   "cell_type": "code",
   "execution_count": null,
   "metadata": {},
   "outputs": [],
   "source": [
    "# Create Model\n",
    "rf_model = RandomForestClassifier(random_state=42)\n",
    "\n",
    "# Evaluate\n",
    "evaluate(rf_model, X_train_vec, y_train)\n",
    "\n",
    "# Fit and test\n",
    "rf_model.fit(X_train_vec, y_train)\n",
    "pred = rf_model.predict(X_test_vec)\n",
    "f1_score(y_test, pred, average='macro')"
   ]
  },
  {
   "cell_type": "code",
   "execution_count": null,
   "metadata": {},
   "outputs": [],
   "source": [
    "# Save the model\n",
    "save('sub_model', rf_model)"
   ]
  },
  {
   "cell_type": "code",
   "execution_count": null,
   "metadata": {},
   "outputs": [],
   "source": [
    "# Create Model\n",
    "mlp_model = MLPClassifier(max_iter=300, random_state=42)\n",
    "\n",
    "# Evaluate\n",
    "evaluate(mlp_model, X_train_vec, y_train)\n",
    "\n",
    "# Fit and test\n",
    "mlp_model.fit(X_train_vec, y_train)\n",
    "pred = mlp_model.predict(X_test_vec)\n",
    "f1_score(y_test, pred, average='macro')"
   ]
  },
  {
   "cell_type": "code",
   "execution_count": null,
   "metadata": {},
   "outputs": [],
   "source": [
    "# Create Model\n",
    "gb_model = GradientBoostingClassifier(random_state=42)\n",
    "\n",
    "# Evaluate\n",
    "evaluate(gb_model, X_train_vec, y_train)\n",
    "\n",
    "# Fit and test\n",
    "gb_model.fit(X_train_vec, y_train)\n",
    "pred = gb_model.predict(X_test_vec)\n",
    "f1_score(y_test, pred, average='macro')"
   ]
  },
  {
   "cell_type": "code",
   "execution_count": null,
   "metadata": {},
   "outputs": [],
   "source": [
    "# Create Model\n",
    "lr_model = LogisticRegression(random_state=42)\n",
    "\n",
    "# Evaluate\n",
    "evaluate(lr_model, X_train_vec, y_train)\n",
    "\n",
    "# Fit and test\n",
    "lr_model.fit(X_train_vec, y_train)\n",
    "pred = lr_model.predict(X_test_vec)\n",
    "f1_score(y_test, pred, average='macro')"
   ]
  },
  {
   "cell_type": "code",
   "execution_count": null,
   "metadata": {},
   "outputs": [],
   "source": [
    "# model = get_network(16)\n",
    "\n",
    "# X_train_nn = np.array(X_train_vec)\n",
    "# X_test_nn = np.array(X_test_vec)\n",
    "# y_train_ohe = one_hot_label(y_train)\n",
    "# y_test_ohe = one_hot_label(y_test)\n",
    "\n",
    "# history = model.fit(X_train_nn, y_train_ohe, epochs=100, validation_data=(X_test_nn, y_test_ohe))"
   ]
  },
  {
   "cell_type": "markdown",
   "metadata": {},
   "source": [
    "### Question"
   ]
  },
  {
   "cell_type": "code",
   "execution_count": null,
   "metadata": {},
   "outputs": [],
   "source": [
    "subject = 16\n",
    "\n",
    "start = (subject-1)*50\n",
    "end = start + 50\n",
    "\n",
    "X_que_filt = np.array(X_que)[start:end]\n",
    "y_que_filt = np.array(y_que)[start:end]"
   ]
  },
  {
   "cell_type": "code",
   "execution_count": null,
   "metadata": {},
   "outputs": [],
   "source": [
    "# Split data\n",
    "X_train, X_test, y_train, y_test = split_data(X_que_filt, y_que_filt)\n",
    "\n",
    "# Make X vector\n",
    "X_train_vec = make_it_vector(X_train)\n",
    "X_test_vec = make_it_vector(X_test)"
   ]
  },
  {
   "cell_type": "code",
   "execution_count": null,
   "metadata": {},
   "outputs": [],
   "source": [
    "# Create Model\n",
    "rf_model = RandomForestClassifier(random_state=42)\n",
    "\n",
    "# Evaluate\n",
    "evaluate(rf_model, X_train_vec, y_train)\n",
    "\n",
    "# Fit and test\n",
    "rf_model.fit(X_train_vec, y_train)\n",
    "pred = rf_model.predict(X_test_vec)\n",
    "f1_score(y_test, pred, average='macro')"
   ]
  },
  {
   "cell_type": "code",
   "execution_count": null,
   "metadata": {},
   "outputs": [],
   "source": [
    "# Save the model\n",
    "save(f'{subject}_que_model', rf_model)"
   ]
  },
  {
   "cell_type": "code",
   "execution_count": null,
   "metadata": {},
   "outputs": [],
   "source": [
    "# Create Model\n",
    "mlp_model = MLPClassifier(max_iter=300, random_state=42)\n",
    "\n",
    "# Evaluate\n",
    "evaluate(mlp_model, X_train_vec, y_train)\n",
    "\n",
    "# Fit and test\n",
    "mlp_model.fit(X_train_vec, y_train)\n",
    "pred = mlp_model.predict(X_test_vec)\n",
    "f1_score(y_test, pred, average='macro')"
   ]
  },
  {
   "cell_type": "code",
   "execution_count": null,
   "metadata": {},
   "outputs": [],
   "source": [
    "# Create Model\n",
    "gb_model = GradientBoostingClassifier(random_state=42)\n",
    "\n",
    "# Evaluate\n",
    "evaluate(gb_model, X_train_vec, y_train)\n",
    "\n",
    "# Fit and test\n",
    "gb_model.fit(X_train_vec, y_train)\n",
    "pred = gb_model.predict(X_test_vec)\n",
    "f1_score(y_test, pred, average='macro')"
   ]
  },
  {
   "cell_type": "code",
   "execution_count": null,
   "metadata": {},
   "outputs": [],
   "source": [
    "# Create Model\n",
    "lr_model = LogisticRegression(random_state=42)\n",
    "\n",
    "# Evaluate\n",
    "evaluate(lr_model, X_train_vec, y_train)\n",
    "\n",
    "# Fit and test\n",
    "lr_model.fit(X_train_vec, y_train)\n",
    "pred = lr_model.predict(X_test_vec)\n",
    "f1_score(y_test, pred, average='macro')"
   ]
  },
  {
   "cell_type": "markdown",
   "metadata": {},
   "source": [
    "## Compare and Select"
   ]
  },
  {
   "cell_type": "code",
   "execution_count": null,
   "metadata": {},
   "outputs": [],
   "source": []
  }
 ],
 "metadata": {
  "kernelspec": {
   "display_name": "Python 3",
   "language": "python",
   "name": "python3"
  },
  "language_info": {
   "codemirror_mode": {
    "name": "ipython",
    "version": 3
   },
   "file_extension": ".py",
   "mimetype": "text/x-python",
   "name": "python",
   "nbconvert_exporter": "python",
   "pygments_lexer": "ipython3",
   "version": "3.8.7"
  }
 },
 "nbformat": 4,
 "nbformat_minor": 4
}
