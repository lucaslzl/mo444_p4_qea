{
 "cells": [
  {
   "cell_type": "markdown",
   "metadata": {},
   "source": [
    "<img src=\"unicamp.png\" width=\"150\" height=\"150\">"
   ]
  },
  {
   "cell_type": "markdown",
   "metadata": {},
   "source": [
    "## MO444/MC886 - Aprendizado de Máquina e Reconhecimento de Padrões\r\n",
    "\r\n",
    "Esse trabalho foi feito pelos seguintes membros:\r\n",
    "\r\n",
    "- Lucas Zanco Ladeira - 188951\r\n",
    "- Rafael Scherer - 204990 \r\n",
    "- \r\n",
    "- \r\n",
    "\r\n",
    "O código original deste projeto está disponível no [repositório do Github](https://github.com/lucaslzl/mo444_p4_qea). "
   ]
  },
  {
   "cell_type": "markdown",
   "metadata": {
    "pycharm": {
     "name": "#%% md\n"
    }
   },
   "source": [
    "## Contribuições\r\n",
    "<br>\r\n",
    "O membro do grupo <b>Lucas Zanco Ladeira</b> contribuiu com toda a implementação, validação e escrita da parte I deste trabalho.\r\n",
    "\r\n",
    "O membro do grupo <b>Rafael Scherer</b> contribuiu com toda a implementação, validação e escrita da parte II deste trabalho.\r\n",
    "\r\n",
    "..........."
   ]
  }
 ],
 "metadata": {
  "interpreter": {
   "hash": "e36b5bde22ecaf5d959c03a949a4cedc58ded8233ad7058ca039ed514de4674f"
  },
  "kernelspec": {
   "display_name": "Python 3.8.7 64-bit",
   "name": "python3"
  },
  "language_info": {
   "name": "python",
   "version": ""
  }
 },
 "nbformat": 4,
 "nbformat_minor": 4
}