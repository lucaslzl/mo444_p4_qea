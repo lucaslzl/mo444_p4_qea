{
 "cells": [
  {
   "cell_type": "markdown",
   "metadata": {},
   "source": [
    "<img src=\"unicamp.png\" width=\"150\" height=\"150\">"
   ]
  },
  {
   "cell_type": "markdown",
   "metadata": {},
   "source": [
    "# Merge Datasets"
   ]
  },
  {
   "cell_type": "code",
   "execution_count": 1,
   "metadata": {},
   "outputs": [],
   "source": [
    "import os\n",
    "import pandas as pd"
   ]
  },
  {
   "cell_type": "code",
   "execution_count": 2,
   "metadata": {},
   "outputs": [],
   "source": [
    "dfs = []\n",
    "folder = 'data'\n",
    "\n",
    "for file in os.listdir(folder):\n",
    "\n",
    "    df = pd.read_excel(f'{folder}/{file}')\n",
    "    df.columns = ['answer', 'question']\n",
    "    df.dropna(inplace=True)\n",
    "    \n",
    "    dfs.append(df)"
   ]
  },
  {
   "cell_type": "code",
   "execution_count": 3,
   "metadata": {},
   "outputs": [],
   "source": [
    "res = pd.concat(dfs, ignore_index=True)"
   ]
  },
  {
   "cell_type": "code",
   "execution_count": 4,
   "metadata": {},
   "outputs": [
    {
     "data": {
      "text/html": [
       "<div>\n",
       "<style scoped>\n",
       "    .dataframe tbody tr th:only-of-type {\n",
       "        vertical-align: middle;\n",
       "    }\n",
       "\n",
       "    .dataframe tbody tr th {\n",
       "        vertical-align: top;\n",
       "    }\n",
       "\n",
       "    .dataframe thead th {\n",
       "        text-align: right;\n",
       "    }\n",
       "</style>\n",
       "<table border=\"1\" class=\"dataframe\">\n",
       "  <thead>\n",
       "    <tr style=\"text-align: right;\">\n",
       "      <th></th>\n",
       "      <th>answer</th>\n",
       "      <th>question</th>\n",
       "    </tr>\n",
       "  </thead>\n",
       "  <tbody>\n",
       "    <tr>\n",
       "      <th>0</th>\n",
       "      <td>How was inequality before covid?</td>\n",
       "      <td>Income inequality was falling in some countries</td>\n",
       "    </tr>\n",
       "    <tr>\n",
       "      <th>1</th>\n",
       "      <td>What is the index to measure inequality?</td>\n",
       "      <td>Gini index</td>\n",
       "    </tr>\n",
       "    <tr>\n",
       "      <th>2</th>\n",
       "      <td>What are some covid implications?</td>\n",
       "      <td>The most vulnerable groups are being hit harde...</td>\n",
       "    </tr>\n",
       "    <tr>\n",
       "      <th>3</th>\n",
       "      <td>What are the most vulnerable groups?</td>\n",
       "      <td>Older people, people with desabilities, childr...</td>\n",
       "    </tr>\n",
       "    <tr>\n",
       "      <th>4</th>\n",
       "      <td>How much of countries with data have a compreh...</td>\n",
       "      <td>Fifty-four percent</td>\n",
       "    </tr>\n",
       "    <tr>\n",
       "      <th>...</th>\n",
       "      <td>...</td>\n",
       "      <td>...</td>\n",
       "    </tr>\n",
       "    <tr>\n",
       "      <th>155</th>\n",
       "      <td>Who have suffered the steepest decline in its ...</td>\n",
       "      <td>The aviation industry</td>\n",
       "    </tr>\n",
       "    <tr>\n",
       "      <th>156</th>\n",
       "      <td>How much of aircrafts were grounded?</td>\n",
       "      <td>Were grounded about ninety per cent of fleets</td>\n",
       "    </tr>\n",
       "    <tr>\n",
       "      <th>157</th>\n",
       "      <td>What the aviation needs to recover?</td>\n",
       "      <td>It will require a coordinated global effort</td>\n",
       "    </tr>\n",
       "    <tr>\n",
       "      <th>158</th>\n",
       "      <td>The slowdown affected which regions?</td>\n",
       "      <td>All regions and country groups</td>\n",
       "    </tr>\n",
       "    <tr>\n",
       "      <th>159</th>\n",
       "      <td>What is the world’s largest manufacturer?</td>\n",
       "      <td>China</td>\n",
       "    </tr>\n",
       "  </tbody>\n",
       "</table>\n",
       "<p>160 rows × 2 columns</p>\n",
       "</div>"
      ],
      "text/plain": [
       "                                                answer  \\\n",
       "0                     How was inequality before covid?   \n",
       "1             What is the index to measure inequality?   \n",
       "2                    What are some covid implications?   \n",
       "3                 What are the most vulnerable groups?   \n",
       "4    How much of countries with data have a compreh...   \n",
       "..                                                 ...   \n",
       "155  Who have suffered the steepest decline in its ...   \n",
       "156               How much of aircrafts were grounded?   \n",
       "157                What the aviation needs to recover?   \n",
       "158               The slowdown affected which regions?   \n",
       "159          What is the world’s largest manufacturer?   \n",
       "\n",
       "                                              question  \n",
       "0      Income inequality was falling in some countries  \n",
       "1                                           Gini index  \n",
       "2    The most vulnerable groups are being hit harde...  \n",
       "3    Older people, people with desabilities, childr...  \n",
       "4                                   Fifty-four percent  \n",
       "..                                                 ...  \n",
       "155                              The aviation industry  \n",
       "156      Were grounded about ninety per cent of fleets  \n",
       "157        It will require a coordinated global effort  \n",
       "158                     All regions and country groups  \n",
       "159                                              China  \n",
       "\n",
       "[160 rows x 2 columns]"
      ]
     },
     "execution_count": 4,
     "metadata": {},
     "output_type": "execute_result"
    }
   ],
   "source": [
    "res"
   ]
  },
  {
   "cell_type": "code",
   "execution_count": 5,
   "metadata": {},
   "outputs": [],
   "source": [
    "res.to_csv('results/data.csv')"
   ]
  }
 ],
 "metadata": {
  "kernelspec": {
   "display_name": "Python 3",
   "language": "python",
   "name": "python3"
  },
  "language_info": {
   "codemirror_mode": {
    "name": "ipython",
    "version": 3
   },
   "file_extension": ".py",
   "mimetype": "text/x-python",
   "name": "python",
   "nbconvert_exporter": "python",
   "pygments_lexer": "ipython3",
   "version": "3.8.7"
  }
 },
 "nbformat": 4,
 "nbformat_minor": 4
}
